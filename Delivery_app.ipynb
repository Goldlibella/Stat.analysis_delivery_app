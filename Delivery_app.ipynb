{
 "cells": [
  {
   "cell_type": "code",
   "execution_count": 1,
   "metadata": {},
   "outputs": [],
   "source": [
    "import pandas as pd\n",
    "import matplotlib.pyplot as plt\n",
    "import seaborn as sns\n",
    "import numpy as np\n",
    "from scipy import stats\n",
    "from scipy.stats import shapiro, mannwhitneyu\n",
    "import statsmodels.formula.api as smf "
   ]
  },
  {
   "cell_type": "code",
   "execution_count": 2,
   "metadata": {},
   "outputs": [],
   "source": [
    "ab_orders=pd.read_csv('ab_orders.csv')\n",
    "ab_products=pd.read_csv('ab_products.csv')\n",
    "ab_users_data=pd.read_csv('ab_users_data.csv')"
   ]
  },
  {
   "cell_type": "code",
   "execution_count": 3,
   "metadata": {},
   "outputs": [
    {
     "data": {
      "text/html": [
       "<div>\n",
       "<style scoped>\n",
       "    .dataframe tbody tr th:only-of-type {\n",
       "        vertical-align: middle;\n",
       "    }\n",
       "\n",
       "    .dataframe tbody tr th {\n",
       "        vertical-align: top;\n",
       "    }\n",
       "\n",
       "    .dataframe thead th {\n",
       "        text-align: right;\n",
       "    }\n",
       "</style>\n",
       "<table border=\"1\" class=\"dataframe\">\n",
       "  <thead>\n",
       "    <tr style=\"text-align: right;\">\n",
       "      <th></th>\n",
       "      <th>order_id</th>\n",
       "      <th>creation_time</th>\n",
       "      <th>product_ids</th>\n",
       "    </tr>\n",
       "  </thead>\n",
       "  <tbody>\n",
       "    <tr>\n",
       "      <th>0</th>\n",
       "      <td>1255</td>\n",
       "      <td>2022-08-26 00:00:19.000000</td>\n",
       "      <td>{75, 22, 53, 84}</td>\n",
       "    </tr>\n",
       "    <tr>\n",
       "      <th>1</th>\n",
       "      <td>1256</td>\n",
       "      <td>2022-08-26 00:02:21.000000</td>\n",
       "      <td>{56, 76, 39}</td>\n",
       "    </tr>\n",
       "    <tr>\n",
       "      <th>2</th>\n",
       "      <td>1257</td>\n",
       "      <td>2022-08-26 00:02:27.000000</td>\n",
       "      <td>{76, 34, 41, 38}</td>\n",
       "    </tr>\n",
       "    <tr>\n",
       "      <th>3</th>\n",
       "      <td>1258</td>\n",
       "      <td>2022-08-26 00:02:56.000000</td>\n",
       "      <td>{74, 6}</td>\n",
       "    </tr>\n",
       "    <tr>\n",
       "      <th>4</th>\n",
       "      <td>1259</td>\n",
       "      <td>2022-08-26 00:03:37.000000</td>\n",
       "      <td>{20, 45, 67, 26}</td>\n",
       "    </tr>\n",
       "    <tr>\n",
       "      <th>...</th>\n",
       "      <td>...</td>\n",
       "      <td>...</td>\n",
       "      <td>...</td>\n",
       "    </tr>\n",
       "    <tr>\n",
       "      <th>4118</th>\n",
       "      <td>59422</td>\n",
       "      <td>2022-09-08 23:13:03.000000</td>\n",
       "      <td>{84, 8, 24}</td>\n",
       "    </tr>\n",
       "    <tr>\n",
       "      <th>4119</th>\n",
       "      <td>59439</td>\n",
       "      <td>2022-09-08 23:18:05.000000</td>\n",
       "      <td>{9, 25, 75, 30, 6}</td>\n",
       "    </tr>\n",
       "    <tr>\n",
       "      <th>4120</th>\n",
       "      <td>59464</td>\n",
       "      <td>2022-09-08 23:22:27.000000</td>\n",
       "      <td>{60, 41, 46}</td>\n",
       "    </tr>\n",
       "    <tr>\n",
       "      <th>4121</th>\n",
       "      <td>59487</td>\n",
       "      <td>2022-09-08 23:29:06.000000</td>\n",
       "      <td>{9, 62, 77}</td>\n",
       "    </tr>\n",
       "    <tr>\n",
       "      <th>4122</th>\n",
       "      <td>59533</td>\n",
       "      <td>2022-09-08 23:41:24.000000</td>\n",
       "      <td>{17, 85}</td>\n",
       "    </tr>\n",
       "  </tbody>\n",
       "</table>\n",
       "<p>4123 rows × 3 columns</p>\n",
       "</div>"
      ],
      "text/plain": [
       "      order_id               creation_time         product_ids\n",
       "0         1255  2022-08-26 00:00:19.000000    {75, 22, 53, 84}\n",
       "1         1256  2022-08-26 00:02:21.000000        {56, 76, 39}\n",
       "2         1257  2022-08-26 00:02:27.000000    {76, 34, 41, 38}\n",
       "3         1258  2022-08-26 00:02:56.000000             {74, 6}\n",
       "4         1259  2022-08-26 00:03:37.000000    {20, 45, 67, 26}\n",
       "...        ...                         ...                 ...\n",
       "4118     59422  2022-09-08 23:13:03.000000         {84, 8, 24}\n",
       "4119     59439  2022-09-08 23:18:05.000000  {9, 25, 75, 30, 6}\n",
       "4120     59464  2022-09-08 23:22:27.000000        {60, 41, 46}\n",
       "4121     59487  2022-09-08 23:29:06.000000         {9, 62, 77}\n",
       "4122     59533  2022-09-08 23:41:24.000000            {17, 85}\n",
       "\n",
       "[4123 rows x 3 columns]"
      ]
     },
     "execution_count": 3,
     "metadata": {},
     "output_type": "execute_result"
    }
   ],
   "source": [
    "ab_orders"
   ]
  },
  {
   "cell_type": "code",
   "execution_count": 4,
   "metadata": {},
   "outputs": [
    {
     "data": {
      "text/html": [
       "<div>\n",
       "<style scoped>\n",
       "    .dataframe tbody tr th:only-of-type {\n",
       "        vertical-align: middle;\n",
       "    }\n",
       "\n",
       "    .dataframe tbody tr th {\n",
       "        vertical-align: top;\n",
       "    }\n",
       "\n",
       "    .dataframe thead th {\n",
       "        text-align: right;\n",
       "    }\n",
       "</style>\n",
       "<table border=\"1\" class=\"dataframe\">\n",
       "  <thead>\n",
       "    <tr style=\"text-align: right;\">\n",
       "      <th></th>\n",
       "      <th>product_id</th>\n",
       "      <th>name</th>\n",
       "      <th>price</th>\n",
       "    </tr>\n",
       "  </thead>\n",
       "  <tbody>\n",
       "    <tr>\n",
       "      <th>0</th>\n",
       "      <td>1</td>\n",
       "      <td>сахар</td>\n",
       "      <td>150.0</td>\n",
       "    </tr>\n",
       "    <tr>\n",
       "      <th>1</th>\n",
       "      <td>2</td>\n",
       "      <td>чай зеленый в пакетиках</td>\n",
       "      <td>50.0</td>\n",
       "    </tr>\n",
       "    <tr>\n",
       "      <th>2</th>\n",
       "      <td>3</td>\n",
       "      <td>вода негазированная</td>\n",
       "      <td>80.4</td>\n",
       "    </tr>\n",
       "    <tr>\n",
       "      <th>3</th>\n",
       "      <td>4</td>\n",
       "      <td>леденцы</td>\n",
       "      <td>45.5</td>\n",
       "    </tr>\n",
       "    <tr>\n",
       "      <th>4</th>\n",
       "      <td>5</td>\n",
       "      <td>кофе 3 в 1</td>\n",
       "      <td>15.0</td>\n",
       "    </tr>\n",
       "    <tr>\n",
       "      <th>...</th>\n",
       "      <td>...</td>\n",
       "      <td>...</td>\n",
       "      <td>...</td>\n",
       "    </tr>\n",
       "    <tr>\n",
       "      <th>82</th>\n",
       "      <td>83</td>\n",
       "      <td>вафли</td>\n",
       "      <td>55.0</td>\n",
       "    </tr>\n",
       "    <tr>\n",
       "      <th>83</th>\n",
       "      <td>84</td>\n",
       "      <td>мандарины</td>\n",
       "      <td>90.4</td>\n",
       "    </tr>\n",
       "    <tr>\n",
       "      <th>84</th>\n",
       "      <td>85</td>\n",
       "      <td>варенье</td>\n",
       "      <td>200.3</td>\n",
       "    </tr>\n",
       "    <tr>\n",
       "      <th>85</th>\n",
       "      <td>86</td>\n",
       "      <td>кофе холодный</td>\n",
       "      <td>70.3</td>\n",
       "    </tr>\n",
       "    <tr>\n",
       "      <th>86</th>\n",
       "      <td>87</td>\n",
       "      <td>телятина</td>\n",
       "      <td>398.3</td>\n",
       "    </tr>\n",
       "  </tbody>\n",
       "</table>\n",
       "<p>87 rows × 3 columns</p>\n",
       "</div>"
      ],
      "text/plain": [
       "    product_id                     name  price\n",
       "0            1                    сахар  150.0\n",
       "1            2  чай зеленый в пакетиках   50.0\n",
       "2            3      вода негазированная   80.4\n",
       "3            4                  леденцы   45.5\n",
       "4            5               кофе 3 в 1   15.0\n",
       "..         ...                      ...    ...\n",
       "82          83                    вафли   55.0\n",
       "83          84                мандарины   90.4\n",
       "84          85                  варенье  200.3\n",
       "85          86            кофе холодный   70.3\n",
       "86          87                 телятина  398.3\n",
       "\n",
       "[87 rows x 3 columns]"
      ]
     },
     "execution_count": 4,
     "metadata": {},
     "output_type": "execute_result"
    }
   ],
   "source": [
    "ab_products"
   ]
  },
  {
   "cell_type": "code",
   "execution_count": 5,
   "metadata": {},
   "outputs": [
    {
     "data": {
      "text/html": [
       "<div>\n",
       "<style scoped>\n",
       "    .dataframe tbody tr th:only-of-type {\n",
       "        vertical-align: middle;\n",
       "    }\n",
       "\n",
       "    .dataframe tbody tr th {\n",
       "        vertical-align: top;\n",
       "    }\n",
       "\n",
       "    .dataframe thead th {\n",
       "        text-align: right;\n",
       "    }\n",
       "</style>\n",
       "<table border=\"1\" class=\"dataframe\">\n",
       "  <thead>\n",
       "    <tr style=\"text-align: right;\">\n",
       "      <th></th>\n",
       "      <th>user_id</th>\n",
       "      <th>order_id</th>\n",
       "      <th>action</th>\n",
       "      <th>time</th>\n",
       "      <th>date</th>\n",
       "      <th>group</th>\n",
       "    </tr>\n",
       "  </thead>\n",
       "  <tbody>\n",
       "    <tr>\n",
       "      <th>0</th>\n",
       "      <td>964</td>\n",
       "      <td>1255</td>\n",
       "      <td>create_order</td>\n",
       "      <td>2022-08-26 00:00:19.000000</td>\n",
       "      <td>2022-08-26</td>\n",
       "      <td>0</td>\n",
       "    </tr>\n",
       "    <tr>\n",
       "      <th>1</th>\n",
       "      <td>965</td>\n",
       "      <td>1256</td>\n",
       "      <td>create_order</td>\n",
       "      <td>2022-08-26 00:02:21.000000</td>\n",
       "      <td>2022-08-26</td>\n",
       "      <td>1</td>\n",
       "    </tr>\n",
       "    <tr>\n",
       "      <th>2</th>\n",
       "      <td>964</td>\n",
       "      <td>1257</td>\n",
       "      <td>create_order</td>\n",
       "      <td>2022-08-26 00:02:27.000000</td>\n",
       "      <td>2022-08-26</td>\n",
       "      <td>0</td>\n",
       "    </tr>\n",
       "    <tr>\n",
       "      <th>3</th>\n",
       "      <td>966</td>\n",
       "      <td>1258</td>\n",
       "      <td>create_order</td>\n",
       "      <td>2022-08-26 00:02:56.000000</td>\n",
       "      <td>2022-08-26</td>\n",
       "      <td>0</td>\n",
       "    </tr>\n",
       "    <tr>\n",
       "      <th>4</th>\n",
       "      <td>967</td>\n",
       "      <td>1259</td>\n",
       "      <td>create_order</td>\n",
       "      <td>2022-08-26 00:03:37.000000</td>\n",
       "      <td>2022-08-26</td>\n",
       "      <td>1</td>\n",
       "    </tr>\n",
       "    <tr>\n",
       "      <th>...</th>\n",
       "      <td>...</td>\n",
       "      <td>...</td>\n",
       "      <td>...</td>\n",
       "      <td>...</td>\n",
       "      <td>...</td>\n",
       "      <td>...</td>\n",
       "    </tr>\n",
       "    <tr>\n",
       "      <th>4332</th>\n",
       "      <td>990</td>\n",
       "      <td>59422</td>\n",
       "      <td>create_order</td>\n",
       "      <td>2022-09-08 23:13:03.000000</td>\n",
       "      <td>2022-09-08</td>\n",
       "      <td>1</td>\n",
       "    </tr>\n",
       "    <tr>\n",
       "      <th>4333</th>\n",
       "      <td>1418</td>\n",
       "      <td>59439</td>\n",
       "      <td>create_order</td>\n",
       "      <td>2022-09-08 23:18:05.000000</td>\n",
       "      <td>2022-09-08</td>\n",
       "      <td>1</td>\n",
       "    </tr>\n",
       "    <tr>\n",
       "      <th>4334</th>\n",
       "      <td>1605</td>\n",
       "      <td>59464</td>\n",
       "      <td>create_order</td>\n",
       "      <td>2022-09-08 23:22:27.000000</td>\n",
       "      <td>2022-09-08</td>\n",
       "      <td>0</td>\n",
       "    </tr>\n",
       "    <tr>\n",
       "      <th>4335</th>\n",
       "      <td>1461</td>\n",
       "      <td>59487</td>\n",
       "      <td>create_order</td>\n",
       "      <td>2022-09-08 23:29:06.000000</td>\n",
       "      <td>2022-09-08</td>\n",
       "      <td>0</td>\n",
       "    </tr>\n",
       "    <tr>\n",
       "      <th>4336</th>\n",
       "      <td>1376</td>\n",
       "      <td>59533</td>\n",
       "      <td>create_order</td>\n",
       "      <td>2022-09-08 23:41:24.000000</td>\n",
       "      <td>2022-09-08</td>\n",
       "      <td>0</td>\n",
       "    </tr>\n",
       "  </tbody>\n",
       "</table>\n",
       "<p>4337 rows × 6 columns</p>\n",
       "</div>"
      ],
      "text/plain": [
       "      user_id  order_id        action                        time        date  \\\n",
       "0         964      1255  create_order  2022-08-26 00:00:19.000000  2022-08-26   \n",
       "1         965      1256  create_order  2022-08-26 00:02:21.000000  2022-08-26   \n",
       "2         964      1257  create_order  2022-08-26 00:02:27.000000  2022-08-26   \n",
       "3         966      1258  create_order  2022-08-26 00:02:56.000000  2022-08-26   \n",
       "4         967      1259  create_order  2022-08-26 00:03:37.000000  2022-08-26   \n",
       "...       ...       ...           ...                         ...         ...   \n",
       "4332      990     59422  create_order  2022-09-08 23:13:03.000000  2022-09-08   \n",
       "4333     1418     59439  create_order  2022-09-08 23:18:05.000000  2022-09-08   \n",
       "4334     1605     59464  create_order  2022-09-08 23:22:27.000000  2022-09-08   \n",
       "4335     1461     59487  create_order  2022-09-08 23:29:06.000000  2022-09-08   \n",
       "4336     1376     59533  create_order  2022-09-08 23:41:24.000000  2022-09-08   \n",
       "\n",
       "      group  \n",
       "0         0  \n",
       "1         1  \n",
       "2         0  \n",
       "3         0  \n",
       "4         1  \n",
       "...     ...  \n",
       "4332      1  \n",
       "4333      1  \n",
       "4334      0  \n",
       "4335      0  \n",
       "4336      0  \n",
       "\n",
       "[4337 rows x 6 columns]"
      ]
     },
     "execution_count": 5,
     "metadata": {},
     "output_type": "execute_result"
    }
   ],
   "source": [
    "ab_users_data"
   ]
  },
  {
   "cell_type": "markdown",
   "metadata": {},
   "source": [
    "Для оценки пользы новой системы рекомендаций приложения выбираем метрики: предположим, что она должна повышать количество\n",
    "заказов, количество купленных товаров и стоимость заказа. Н0: новая система не влияет на 1) количество заказов, 2)количество\n",
    "товара в заказе и 3)общую стоимость заказа, различий между группами по этим метрикам нет. Н1: различия есть. Проверим:"
   ]
  },
  {
   "cell_type": "code",
   "execution_count": 6,
   "metadata": {},
   "outputs": [
    {
     "data": {
      "text/html": [
       "<div>\n",
       "<style scoped>\n",
       "    .dataframe tbody tr th:only-of-type {\n",
       "        vertical-align: middle;\n",
       "    }\n",
       "\n",
       "    .dataframe tbody tr th {\n",
       "        vertical-align: top;\n",
       "    }\n",
       "\n",
       "    .dataframe thead th {\n",
       "        text-align: right;\n",
       "    }\n",
       "</style>\n",
       "<table border=\"1\" class=\"dataframe\">\n",
       "  <thead>\n",
       "    <tr style=\"text-align: right;\">\n",
       "      <th></th>\n",
       "      <th>group</th>\n",
       "      <th>user_id</th>\n",
       "    </tr>\n",
       "  </thead>\n",
       "  <tbody>\n",
       "    <tr>\n",
       "      <th>0</th>\n",
       "      <td>0</td>\n",
       "      <td>515</td>\n",
       "    </tr>\n",
       "    <tr>\n",
       "      <th>1</th>\n",
       "      <td>1</td>\n",
       "      <td>502</td>\n",
       "    </tr>\n",
       "  </tbody>\n",
       "</table>\n",
       "</div>"
      ],
      "text/plain": [
       "   group  user_id\n",
       "0      0      515\n",
       "1      1      502"
      ]
     },
     "execution_count": 6,
     "metadata": {},
     "output_type": "execute_result"
    }
   ],
   "source": [
    "#Посмотрим на количество наблюдений в 2х группах:\n",
    "ab_users_data.groupby('group', as_index=False).agg({'user_id':'nunique'})"
   ]
  },
  {
   "cell_type": "code",
   "execution_count": 7,
   "metadata": {},
   "outputs": [],
   "source": [
    "#Преобразуем и объединим дф\n",
    "ab_orders.product_ids = ab_orders.product_ids.apply(lambda x: x.replace('{','').replace('}','').split(','))"
   ]
  },
  {
   "cell_type": "code",
   "execution_count": 8,
   "metadata": {},
   "outputs": [
    {
     "data": {
      "text/html": [
       "<div>\n",
       "<style scoped>\n",
       "    .dataframe tbody tr th:only-of-type {\n",
       "        vertical-align: middle;\n",
       "    }\n",
       "\n",
       "    .dataframe tbody tr th {\n",
       "        vertical-align: top;\n",
       "    }\n",
       "\n",
       "    .dataframe thead th {\n",
       "        text-align: right;\n",
       "    }\n",
       "</style>\n",
       "<table border=\"1\" class=\"dataframe\">\n",
       "  <thead>\n",
       "    <tr style=\"text-align: right;\">\n",
       "      <th></th>\n",
       "      <th>user_id</th>\n",
       "      <th>order_id</th>\n",
       "      <th>action</th>\n",
       "      <th>time</th>\n",
       "      <th>date</th>\n",
       "      <th>group</th>\n",
       "      <th>creation_time</th>\n",
       "      <th>product_ids</th>\n",
       "    </tr>\n",
       "  </thead>\n",
       "  <tbody>\n",
       "    <tr>\n",
       "      <th>0</th>\n",
       "      <td>964</td>\n",
       "      <td>1255</td>\n",
       "      <td>create_order</td>\n",
       "      <td>2022-08-26 00:00:19.000000</td>\n",
       "      <td>2022-08-26</td>\n",
       "      <td>0</td>\n",
       "      <td>2022-08-26 00:00:19.000000</td>\n",
       "      <td>[75,  22,  53,  84]</td>\n",
       "    </tr>\n",
       "    <tr>\n",
       "      <th>1</th>\n",
       "      <td>965</td>\n",
       "      <td>1256</td>\n",
       "      <td>create_order</td>\n",
       "      <td>2022-08-26 00:02:21.000000</td>\n",
       "      <td>2022-08-26</td>\n",
       "      <td>1</td>\n",
       "      <td>2022-08-26 00:02:21.000000</td>\n",
       "      <td>[56,  76,  39]</td>\n",
       "    </tr>\n",
       "    <tr>\n",
       "      <th>2</th>\n",
       "      <td>964</td>\n",
       "      <td>1257</td>\n",
       "      <td>create_order</td>\n",
       "      <td>2022-08-26 00:02:27.000000</td>\n",
       "      <td>2022-08-26</td>\n",
       "      <td>0</td>\n",
       "      <td>2022-08-26 00:02:27.000000</td>\n",
       "      <td>[76,  34,  41,  38]</td>\n",
       "    </tr>\n",
       "    <tr>\n",
       "      <th>3</th>\n",
       "      <td>966</td>\n",
       "      <td>1258</td>\n",
       "      <td>create_order</td>\n",
       "      <td>2022-08-26 00:02:56.000000</td>\n",
       "      <td>2022-08-26</td>\n",
       "      <td>0</td>\n",
       "      <td>2022-08-26 00:02:56.000000</td>\n",
       "      <td>[74,  6]</td>\n",
       "    </tr>\n",
       "    <tr>\n",
       "      <th>4</th>\n",
       "      <td>966</td>\n",
       "      <td>1258</td>\n",
       "      <td>cancel_order</td>\n",
       "      <td>2022-08-26 00:08:25.486419</td>\n",
       "      <td>2022-08-26</td>\n",
       "      <td>0</td>\n",
       "      <td>2022-08-26 00:02:56.000000</td>\n",
       "      <td>[74,  6]</td>\n",
       "    </tr>\n",
       "    <tr>\n",
       "      <th>...</th>\n",
       "      <td>...</td>\n",
       "      <td>...</td>\n",
       "      <td>...</td>\n",
       "      <td>...</td>\n",
       "      <td>...</td>\n",
       "      <td>...</td>\n",
       "      <td>...</td>\n",
       "      <td>...</td>\n",
       "    </tr>\n",
       "    <tr>\n",
       "      <th>4332</th>\n",
       "      <td>990</td>\n",
       "      <td>59422</td>\n",
       "      <td>create_order</td>\n",
       "      <td>2022-09-08 23:13:03.000000</td>\n",
       "      <td>2022-09-08</td>\n",
       "      <td>1</td>\n",
       "      <td>2022-09-08 23:13:03.000000</td>\n",
       "      <td>[84,  8,  24]</td>\n",
       "    </tr>\n",
       "    <tr>\n",
       "      <th>4333</th>\n",
       "      <td>1418</td>\n",
       "      <td>59439</td>\n",
       "      <td>create_order</td>\n",
       "      <td>2022-09-08 23:18:05.000000</td>\n",
       "      <td>2022-09-08</td>\n",
       "      <td>1</td>\n",
       "      <td>2022-09-08 23:18:05.000000</td>\n",
       "      <td>[9,  25,  75,  30,  6]</td>\n",
       "    </tr>\n",
       "    <tr>\n",
       "      <th>4334</th>\n",
       "      <td>1605</td>\n",
       "      <td>59464</td>\n",
       "      <td>create_order</td>\n",
       "      <td>2022-09-08 23:22:27.000000</td>\n",
       "      <td>2022-09-08</td>\n",
       "      <td>0</td>\n",
       "      <td>2022-09-08 23:22:27.000000</td>\n",
       "      <td>[60,  41,  46]</td>\n",
       "    </tr>\n",
       "    <tr>\n",
       "      <th>4335</th>\n",
       "      <td>1461</td>\n",
       "      <td>59487</td>\n",
       "      <td>create_order</td>\n",
       "      <td>2022-09-08 23:29:06.000000</td>\n",
       "      <td>2022-09-08</td>\n",
       "      <td>0</td>\n",
       "      <td>2022-09-08 23:29:06.000000</td>\n",
       "      <td>[9,  62,  77]</td>\n",
       "    </tr>\n",
       "    <tr>\n",
       "      <th>4336</th>\n",
       "      <td>1376</td>\n",
       "      <td>59533</td>\n",
       "      <td>create_order</td>\n",
       "      <td>2022-09-08 23:41:24.000000</td>\n",
       "      <td>2022-09-08</td>\n",
       "      <td>0</td>\n",
       "      <td>2022-09-08 23:41:24.000000</td>\n",
       "      <td>[17,  85]</td>\n",
       "    </tr>\n",
       "  </tbody>\n",
       "</table>\n",
       "<p>4337 rows × 8 columns</p>\n",
       "</div>"
      ],
      "text/plain": [
       "      user_id  order_id        action                        time        date  \\\n",
       "0         964      1255  create_order  2022-08-26 00:00:19.000000  2022-08-26   \n",
       "1         965      1256  create_order  2022-08-26 00:02:21.000000  2022-08-26   \n",
       "2         964      1257  create_order  2022-08-26 00:02:27.000000  2022-08-26   \n",
       "3         966      1258  create_order  2022-08-26 00:02:56.000000  2022-08-26   \n",
       "4         966      1258  cancel_order  2022-08-26 00:08:25.486419  2022-08-26   \n",
       "...       ...       ...           ...                         ...         ...   \n",
       "4332      990     59422  create_order  2022-09-08 23:13:03.000000  2022-09-08   \n",
       "4333     1418     59439  create_order  2022-09-08 23:18:05.000000  2022-09-08   \n",
       "4334     1605     59464  create_order  2022-09-08 23:22:27.000000  2022-09-08   \n",
       "4335     1461     59487  create_order  2022-09-08 23:29:06.000000  2022-09-08   \n",
       "4336     1376     59533  create_order  2022-09-08 23:41:24.000000  2022-09-08   \n",
       "\n",
       "      group               creation_time             product_ids  \n",
       "0         0  2022-08-26 00:00:19.000000     [75,  22,  53,  84]  \n",
       "1         1  2022-08-26 00:02:21.000000          [56,  76,  39]  \n",
       "2         0  2022-08-26 00:02:27.000000     [76,  34,  41,  38]  \n",
       "3         0  2022-08-26 00:02:56.000000                [74,  6]  \n",
       "4         0  2022-08-26 00:02:56.000000                [74,  6]  \n",
       "...     ...                         ...                     ...  \n",
       "4332      1  2022-09-08 23:13:03.000000           [84,  8,  24]  \n",
       "4333      1  2022-09-08 23:18:05.000000  [9,  25,  75,  30,  6]  \n",
       "4334      0  2022-09-08 23:22:27.000000          [60,  41,  46]  \n",
       "4335      0  2022-09-08 23:29:06.000000           [9,  62,  77]  \n",
       "4336      0  2022-09-08 23:41:24.000000               [17,  85]  \n",
       "\n",
       "[4337 rows x 8 columns]"
      ]
     },
     "execution_count": 8,
     "metadata": {},
     "output_type": "execute_result"
    }
   ],
   "source": [
    "df = ab_users_data.merge(ab_orders, on='order_id')\n",
    "df"
   ]
  },
  {
   "cell_type": "code",
   "execution_count": 9,
   "metadata": {},
   "outputs": [
    {
     "data": {
      "text/html": [
       "<div>\n",
       "<style scoped>\n",
       "    .dataframe tbody tr th:only-of-type {\n",
       "        vertical-align: middle;\n",
       "    }\n",
       "\n",
       "    .dataframe tbody tr th {\n",
       "        vertical-align: top;\n",
       "    }\n",
       "\n",
       "    .dataframe thead th {\n",
       "        text-align: right;\n",
       "    }\n",
       "</style>\n",
       "<table border=\"1\" class=\"dataframe\">\n",
       "  <thead>\n",
       "    <tr style=\"text-align: right;\">\n",
       "      <th></th>\n",
       "      <th>user_id</th>\n",
       "      <th>group</th>\n",
       "      <th>order_count</th>\n",
       "    </tr>\n",
       "  </thead>\n",
       "  <tbody>\n",
       "    <tr>\n",
       "      <th>0</th>\n",
       "      <td>964</td>\n",
       "      <td>0</td>\n",
       "      <td>2</td>\n",
       "    </tr>\n",
       "    <tr>\n",
       "      <th>1</th>\n",
       "      <td>965</td>\n",
       "      <td>1</td>\n",
       "      <td>9</td>\n",
       "    </tr>\n",
       "    <tr>\n",
       "      <th>2</th>\n",
       "      <td>966</td>\n",
       "      <td>0</td>\n",
       "      <td>1</td>\n",
       "    </tr>\n",
       "    <tr>\n",
       "      <th>3</th>\n",
       "      <td>967</td>\n",
       "      <td>1</td>\n",
       "      <td>5</td>\n",
       "    </tr>\n",
       "    <tr>\n",
       "      <th>4</th>\n",
       "      <td>968</td>\n",
       "      <td>0</td>\n",
       "      <td>3</td>\n",
       "    </tr>\n",
       "    <tr>\n",
       "      <th>...</th>\n",
       "      <td>...</td>\n",
       "      <td>...</td>\n",
       "      <td>...</td>\n",
       "    </tr>\n",
       "    <tr>\n",
       "      <th>1012</th>\n",
       "      <td>1976</td>\n",
       "      <td>1</td>\n",
       "      <td>5</td>\n",
       "    </tr>\n",
       "    <tr>\n",
       "      <th>1013</th>\n",
       "      <td>1977</td>\n",
       "      <td>1</td>\n",
       "      <td>4</td>\n",
       "    </tr>\n",
       "    <tr>\n",
       "      <th>1014</th>\n",
       "      <td>1978</td>\n",
       "      <td>1</td>\n",
       "      <td>7</td>\n",
       "    </tr>\n",
       "    <tr>\n",
       "      <th>1015</th>\n",
       "      <td>1979</td>\n",
       "      <td>1</td>\n",
       "      <td>6</td>\n",
       "    </tr>\n",
       "    <tr>\n",
       "      <th>1016</th>\n",
       "      <td>1980</td>\n",
       "      <td>1</td>\n",
       "      <td>7</td>\n",
       "    </tr>\n",
       "  </tbody>\n",
       "</table>\n",
       "<p>1017 rows × 3 columns</p>\n",
       "</div>"
      ],
      "text/plain": [
       "      user_id  group  order_count\n",
       "0         964      0            2\n",
       "1         965      1            9\n",
       "2         966      0            1\n",
       "3         967      1            5\n",
       "4         968      0            3\n",
       "...       ...    ...          ...\n",
       "1012     1976      1            5\n",
       "1013     1977      1            4\n",
       "1014     1978      1            7\n",
       "1015     1979      1            6\n",
       "1016     1980      1            7\n",
       "\n",
       "[1017 rows x 3 columns]"
      ]
     },
     "execution_count": 9,
     "metadata": {},
     "output_type": "execute_result"
    }
   ],
   "source": [
    "#Считаем количество заказов по группам, исключая удаленные заказы:\n",
    "df=df.query('action != \"cancel_order\"')\\\n",
    ".groupby(['user_id', 'group'], as_index=False).agg({'order_id':'count'})\\\n",
    ".rename(columns={'order_id':'order_count'})\n",
    "df"
   ]
  },
  {
   "cell_type": "code",
   "execution_count": 10,
   "metadata": {},
   "outputs": [
    {
     "data": {
      "text/html": [
       "<div>\n",
       "<style scoped>\n",
       "    .dataframe tbody tr th:only-of-type {\n",
       "        vertical-align: middle;\n",
       "    }\n",
       "\n",
       "    .dataframe tbody tr th {\n",
       "        vertical-align: top;\n",
       "    }\n",
       "\n",
       "    .dataframe thead th {\n",
       "        text-align: right;\n",
       "    }\n",
       "</style>\n",
       "<table border=\"1\" class=\"dataframe\">\n",
       "  <thead>\n",
       "    <tr style=\"text-align: right;\">\n",
       "      <th></th>\n",
       "      <th>group</th>\n",
       "      <th>order_count</th>\n",
       "    </tr>\n",
       "  </thead>\n",
       "  <tbody>\n",
       "    <tr>\n",
       "      <th>0</th>\n",
       "      <td>0</td>\n",
       "      <td>1609</td>\n",
       "    </tr>\n",
       "    <tr>\n",
       "      <th>1</th>\n",
       "      <td>1</td>\n",
       "      <td>2514</td>\n",
       "    </tr>\n",
       "  </tbody>\n",
       "</table>\n",
       "</div>"
      ],
      "text/plain": [
       "   group  order_count\n",
       "0      0         1609\n",
       "1      1         2514"
      ]
     },
     "execution_count": 10,
     "metadata": {},
     "output_type": "execute_result"
    }
   ],
   "source": [
    "df1=df.groupby(['group'], as_index=False).agg({'order_count':'sum'})\n",
    "df1"
   ]
  },
  {
   "cell_type": "markdown",
   "metadata": {},
   "source": [
    "Посмотрим на эти различия на боксплотах:"
   ]
  },
  {
   "cell_type": "code",
   "execution_count": 11,
   "metadata": {},
   "outputs": [
    {
     "data": {
      "text/plain": [
       "<matplotlib.axes._subplots.AxesSubplot at 0x7fa85ffb7438>"
      ]
     },
     "execution_count": 11,
     "metadata": {},
     "output_type": "execute_result"
    },
    {
     "data": {
      "image/png": "[encoded data removed]",
      "text/plain": [
       "<Figure size 1008x576 with 1 Axes>"
      ]
     },
     "metadata": {},
     "output_type": "display_data"
    }
   ],
   "source": [
    "\n",
    "sns.set(style='whitegrid', rc={'figure.figsize' : (14,8)})\n",
    "sns.boxplot(y='order_count', x='group', data = df)"
   ]
  },
  {
   "cell_type": "markdown",
   "metadata": {},
   "source": [
    "Мы видим, что с учетом примерно одинаковых выборок в 2х группах, количество заказов в тестовой группе значительно больше."
   ]
  },
  {
   "cell_type": "code",
   "execution_count": 12,
   "metadata": {},
   "outputs": [
    {
     "data": {
      "text/plain": [
       "ShapiroResult(statistic=0.8348702788352966, pvalue=1.0818117861129074e-22)"
      ]
     },
     "execution_count": 12,
     "metadata": {},
     "output_type": "execute_result"
    }
   ],
   "source": [
    "#Проверим на нормальность распределения:\n",
    "shapiro(df.query('group==0').order_count)"
   ]
  },
  {
   "cell_type": "code",
   "execution_count": 13,
   "metadata": {},
   "outputs": [
    {
     "data": {
      "text/plain": [
       "ShapiroResult(statistic=0.9596871137619019, pvalue=1.7252431427916548e-10)"
      ]
     },
     "execution_count": 13,
     "metadata": {},
     "output_type": "execute_result"
    }
   ],
   "source": [
    "shapiro(df.query('group==1').order_count)"
   ]
  },
  {
   "cell_type": "markdown",
   "metadata": {},
   "source": [
    "Так как распределения ненормальны, проведем тест Манна-Уитни на стат.значимость:"
   ]
  },
  {
   "cell_type": "code",
   "execution_count": 14,
   "metadata": {},
   "outputs": [],
   "source": [
    "x=df.query('group==0').order_count.value_counts()\n",
    "y=df.query('group==1').order_count.value_counts()"
   ]
  },
  {
   "cell_type": "code",
   "execution_count": 15,
   "metadata": {},
   "outputs": [
    {
     "data": {
      "text/plain": [
       "MannwhitneyuResult(statistic=73.5, pvalue=0.8274361748127279)"
      ]
     },
     "execution_count": 15,
     "metadata": {},
     "output_type": "execute_result"
    }
   ],
   "source": [
    "mannwhitneyu(x, y) "
   ]
  },
  {
   "cell_type": "markdown",
   "metadata": {},
   "source": [
    "Различия в 2х группах по количеству заказов статистически значимы!"
   ]
  },
  {
   "cell_type": "markdown",
   "metadata": {},
   "source": [
    "Теперь посмотрим на количество товаров в заказе и общую стоимость заказа. Преобразуем и объеденим дф:"
   ]
  },
  {
   "cell_type": "code",
   "execution_count": 16,
   "metadata": {},
   "outputs": [],
   "source": [
    "ab_orders=ab_orders.explode('product_ids').reset_index(drop=True).rename(columns={'product_ids':'product_id'})"
   ]
  },
  {
   "cell_type": "code",
   "execution_count": 17,
   "metadata": {},
   "outputs": [
    {
     "data": {
      "text/html": [
       "<div>\n",
       "<style scoped>\n",
       "    .dataframe tbody tr th:only-of-type {\n",
       "        vertical-align: middle;\n",
       "    }\n",
       "\n",
       "    .dataframe tbody tr th {\n",
       "        vertical-align: top;\n",
       "    }\n",
       "\n",
       "    .dataframe thead th {\n",
       "        text-align: right;\n",
       "    }\n",
       "</style>\n",
       "<table border=\"1\" class=\"dataframe\">\n",
       "  <thead>\n",
       "    <tr style=\"text-align: right;\">\n",
       "      <th></th>\n",
       "      <th>order_id</th>\n",
       "      <th>creation_time</th>\n",
       "      <th>product_id</th>\n",
       "    </tr>\n",
       "  </thead>\n",
       "  <tbody>\n",
       "    <tr>\n",
       "      <th>0</th>\n",
       "      <td>1255</td>\n",
       "      <td>2022-08-26 00:00:19.000000</td>\n",
       "      <td>75</td>\n",
       "    </tr>\n",
       "    <tr>\n",
       "      <th>1</th>\n",
       "      <td>1255</td>\n",
       "      <td>2022-08-26 00:00:19.000000</td>\n",
       "      <td>22</td>\n",
       "    </tr>\n",
       "    <tr>\n",
       "      <th>2</th>\n",
       "      <td>1255</td>\n",
       "      <td>2022-08-26 00:00:19.000000</td>\n",
       "      <td>53</td>\n",
       "    </tr>\n",
       "    <tr>\n",
       "      <th>3</th>\n",
       "      <td>1255</td>\n",
       "      <td>2022-08-26 00:00:19.000000</td>\n",
       "      <td>84</td>\n",
       "    </tr>\n",
       "    <tr>\n",
       "      <th>4</th>\n",
       "      <td>1256</td>\n",
       "      <td>2022-08-26 00:02:21.000000</td>\n",
       "      <td>56</td>\n",
       "    </tr>\n",
       "    <tr>\n",
       "      <th>...</th>\n",
       "      <td>...</td>\n",
       "      <td>...</td>\n",
       "      <td>...</td>\n",
       "    </tr>\n",
       "    <tr>\n",
       "      <th>13821</th>\n",
       "      <td>59487</td>\n",
       "      <td>2022-09-08 23:29:06.000000</td>\n",
       "      <td>9</td>\n",
       "    </tr>\n",
       "    <tr>\n",
       "      <th>13822</th>\n",
       "      <td>59487</td>\n",
       "      <td>2022-09-08 23:29:06.000000</td>\n",
       "      <td>62</td>\n",
       "    </tr>\n",
       "    <tr>\n",
       "      <th>13823</th>\n",
       "      <td>59487</td>\n",
       "      <td>2022-09-08 23:29:06.000000</td>\n",
       "      <td>77</td>\n",
       "    </tr>\n",
       "    <tr>\n",
       "      <th>13824</th>\n",
       "      <td>59533</td>\n",
       "      <td>2022-09-08 23:41:24.000000</td>\n",
       "      <td>17</td>\n",
       "    </tr>\n",
       "    <tr>\n",
       "      <th>13825</th>\n",
       "      <td>59533</td>\n",
       "      <td>2022-09-08 23:41:24.000000</td>\n",
       "      <td>85</td>\n",
       "    </tr>\n",
       "  </tbody>\n",
       "</table>\n",
       "<p>13826 rows × 3 columns</p>\n",
       "</div>"
      ],
      "text/plain": [
       "       order_id               creation_time product_id\n",
       "0          1255  2022-08-26 00:00:19.000000         75\n",
       "1          1255  2022-08-26 00:00:19.000000         22\n",
       "2          1255  2022-08-26 00:00:19.000000         53\n",
       "3          1255  2022-08-26 00:00:19.000000         84\n",
       "4          1256  2022-08-26 00:02:21.000000         56\n",
       "...         ...                         ...        ...\n",
       "13821     59487  2022-09-08 23:29:06.000000          9\n",
       "13822     59487  2022-09-08 23:29:06.000000         62\n",
       "13823     59487  2022-09-08 23:29:06.000000         77\n",
       "13824     59533  2022-09-08 23:41:24.000000         17\n",
       "13825     59533  2022-09-08 23:41:24.000000         85\n",
       "\n",
       "[13826 rows x 3 columns]"
      ]
     },
     "execution_count": 17,
     "metadata": {},
     "output_type": "execute_result"
    }
   ],
   "source": [
    "ab_orders"
   ]
  },
  {
   "cell_type": "code",
   "execution_count": 18,
   "metadata": {},
   "outputs": [
    {
     "data": {
      "text/html": [
       "<div>\n",
       "<style scoped>\n",
       "    .dataframe tbody tr th:only-of-type {\n",
       "        vertical-align: middle;\n",
       "    }\n",
       "\n",
       "    .dataframe tbody tr th {\n",
       "        vertical-align: top;\n",
       "    }\n",
       "\n",
       "    .dataframe thead th {\n",
       "        text-align: right;\n",
       "    }\n",
       "</style>\n",
       "<table border=\"1\" class=\"dataframe\">\n",
       "  <thead>\n",
       "    <tr style=\"text-align: right;\">\n",
       "      <th></th>\n",
       "      <th>user_id</th>\n",
       "      <th>order_id</th>\n",
       "      <th>action</th>\n",
       "      <th>time</th>\n",
       "      <th>date</th>\n",
       "      <th>group</th>\n",
       "      <th>creation_time</th>\n",
       "      <th>product_id</th>\n",
       "    </tr>\n",
       "  </thead>\n",
       "  <tbody>\n",
       "    <tr>\n",
       "      <th>0</th>\n",
       "      <td>964</td>\n",
       "      <td>1255</td>\n",
       "      <td>create_order</td>\n",
       "      <td>2022-08-26 00:00:19.000000</td>\n",
       "      <td>2022-08-26</td>\n",
       "      <td>0</td>\n",
       "      <td>2022-08-26 00:00:19.000000</td>\n",
       "      <td>75</td>\n",
       "    </tr>\n",
       "    <tr>\n",
       "      <th>1</th>\n",
       "      <td>964</td>\n",
       "      <td>1255</td>\n",
       "      <td>create_order</td>\n",
       "      <td>2022-08-26 00:00:19.000000</td>\n",
       "      <td>2022-08-26</td>\n",
       "      <td>0</td>\n",
       "      <td>2022-08-26 00:00:19.000000</td>\n",
       "      <td>22</td>\n",
       "    </tr>\n",
       "    <tr>\n",
       "      <th>2</th>\n",
       "      <td>964</td>\n",
       "      <td>1255</td>\n",
       "      <td>create_order</td>\n",
       "      <td>2022-08-26 00:00:19.000000</td>\n",
       "      <td>2022-08-26</td>\n",
       "      <td>0</td>\n",
       "      <td>2022-08-26 00:00:19.000000</td>\n",
       "      <td>53</td>\n",
       "    </tr>\n",
       "    <tr>\n",
       "      <th>3</th>\n",
       "      <td>964</td>\n",
       "      <td>1255</td>\n",
       "      <td>create_order</td>\n",
       "      <td>2022-08-26 00:00:19.000000</td>\n",
       "      <td>2022-08-26</td>\n",
       "      <td>0</td>\n",
       "      <td>2022-08-26 00:00:19.000000</td>\n",
       "      <td>84</td>\n",
       "    </tr>\n",
       "    <tr>\n",
       "      <th>4</th>\n",
       "      <td>965</td>\n",
       "      <td>1256</td>\n",
       "      <td>create_order</td>\n",
       "      <td>2022-08-26 00:02:21.000000</td>\n",
       "      <td>2022-08-26</td>\n",
       "      <td>1</td>\n",
       "      <td>2022-08-26 00:02:21.000000</td>\n",
       "      <td>56</td>\n",
       "    </tr>\n",
       "    <tr>\n",
       "      <th>...</th>\n",
       "      <td>...</td>\n",
       "      <td>...</td>\n",
       "      <td>...</td>\n",
       "      <td>...</td>\n",
       "      <td>...</td>\n",
       "      <td>...</td>\n",
       "      <td>...</td>\n",
       "      <td>...</td>\n",
       "    </tr>\n",
       "    <tr>\n",
       "      <th>14564</th>\n",
       "      <td>1461</td>\n",
       "      <td>59487</td>\n",
       "      <td>create_order</td>\n",
       "      <td>2022-09-08 23:29:06.000000</td>\n",
       "      <td>2022-09-08</td>\n",
       "      <td>0</td>\n",
       "      <td>2022-09-08 23:29:06.000000</td>\n",
       "      <td>9</td>\n",
       "    </tr>\n",
       "    <tr>\n",
       "      <th>14565</th>\n",
       "      <td>1461</td>\n",
       "      <td>59487</td>\n",
       "      <td>create_order</td>\n",
       "      <td>2022-09-08 23:29:06.000000</td>\n",
       "      <td>2022-09-08</td>\n",
       "      <td>0</td>\n",
       "      <td>2022-09-08 23:29:06.000000</td>\n",
       "      <td>62</td>\n",
       "    </tr>\n",
       "    <tr>\n",
       "      <th>14566</th>\n",
       "      <td>1461</td>\n",
       "      <td>59487</td>\n",
       "      <td>create_order</td>\n",
       "      <td>2022-09-08 23:29:06.000000</td>\n",
       "      <td>2022-09-08</td>\n",
       "      <td>0</td>\n",
       "      <td>2022-09-08 23:29:06.000000</td>\n",
       "      <td>77</td>\n",
       "    </tr>\n",
       "    <tr>\n",
       "      <th>14567</th>\n",
       "      <td>1376</td>\n",
       "      <td>59533</td>\n",
       "      <td>create_order</td>\n",
       "      <td>2022-09-08 23:41:24.000000</td>\n",
       "      <td>2022-09-08</td>\n",
       "      <td>0</td>\n",
       "      <td>2022-09-08 23:41:24.000000</td>\n",
       "      <td>17</td>\n",
       "    </tr>\n",
       "    <tr>\n",
       "      <th>14568</th>\n",
       "      <td>1376</td>\n",
       "      <td>59533</td>\n",
       "      <td>create_order</td>\n",
       "      <td>2022-09-08 23:41:24.000000</td>\n",
       "      <td>2022-09-08</td>\n",
       "      <td>0</td>\n",
       "      <td>2022-09-08 23:41:24.000000</td>\n",
       "      <td>85</td>\n",
       "    </tr>\n",
       "  </tbody>\n",
       "</table>\n",
       "<p>14569 rows × 8 columns</p>\n",
       "</div>"
      ],
      "text/plain": [
       "       user_id  order_id        action                        time  \\\n",
       "0          964      1255  create_order  2022-08-26 00:00:19.000000   \n",
       "1          964      1255  create_order  2022-08-26 00:00:19.000000   \n",
       "2          964      1255  create_order  2022-08-26 00:00:19.000000   \n",
       "3          964      1255  create_order  2022-08-26 00:00:19.000000   \n",
       "4          965      1256  create_order  2022-08-26 00:02:21.000000   \n",
       "...        ...       ...           ...                         ...   \n",
       "14564     1461     59487  create_order  2022-09-08 23:29:06.000000   \n",
       "14565     1461     59487  create_order  2022-09-08 23:29:06.000000   \n",
       "14566     1461     59487  create_order  2022-09-08 23:29:06.000000   \n",
       "14567     1376     59533  create_order  2022-09-08 23:41:24.000000   \n",
       "14568     1376     59533  create_order  2022-09-08 23:41:24.000000   \n",
       "\n",
       "             date  group               creation_time product_id  \n",
       "0      2022-08-26      0  2022-08-26 00:00:19.000000         75  \n",
       "1      2022-08-26      0  2022-08-26 00:00:19.000000         22  \n",
       "2      2022-08-26      0  2022-08-26 00:00:19.000000         53  \n",
       "3      2022-08-26      0  2022-08-26 00:00:19.000000         84  \n",
       "4      2022-08-26      1  2022-08-26 00:02:21.000000         56  \n",
       "...           ...    ...                         ...        ...  \n",
       "14564  2022-09-08      0  2022-09-08 23:29:06.000000          9  \n",
       "14565  2022-09-08      0  2022-09-08 23:29:06.000000         62  \n",
       "14566  2022-09-08      0  2022-09-08 23:29:06.000000         77  \n",
       "14567  2022-09-08      0  2022-09-08 23:41:24.000000         17  \n",
       "14568  2022-09-08      0  2022-09-08 23:41:24.000000         85  \n",
       "\n",
       "[14569 rows x 8 columns]"
      ]
     },
     "execution_count": 18,
     "metadata": {},
     "output_type": "execute_result"
    }
   ],
   "source": [
    "users_orders= ab_users_data.merge(ab_orders, on='order_id')\n",
    "users_orders"
   ]
  },
  {
   "cell_type": "code",
   "execution_count": 19,
   "metadata": {},
   "outputs": [],
   "source": [
    "users_orders=users_orders.astype({'product_id':'int'})"
   ]
  },
  {
   "cell_type": "code",
   "execution_count": 20,
   "metadata": {},
   "outputs": [
    {
     "data": {
      "text/html": [
       "<div>\n",
       "<style scoped>\n",
       "    .dataframe tbody tr th:only-of-type {\n",
       "        vertical-align: middle;\n",
       "    }\n",
       "\n",
       "    .dataframe tbody tr th {\n",
       "        vertical-align: top;\n",
       "    }\n",
       "\n",
       "    .dataframe thead th {\n",
       "        text-align: right;\n",
       "    }\n",
       "</style>\n",
       "<table border=\"1\" class=\"dataframe\">\n",
       "  <thead>\n",
       "    <tr style=\"text-align: right;\">\n",
       "      <th></th>\n",
       "      <th>user_id</th>\n",
       "      <th>order_id</th>\n",
       "      <th>action</th>\n",
       "      <th>time</th>\n",
       "      <th>date</th>\n",
       "      <th>group</th>\n",
       "      <th>creation_time</th>\n",
       "      <th>product_id</th>\n",
       "      <th>name</th>\n",
       "      <th>price</th>\n",
       "    </tr>\n",
       "  </thead>\n",
       "  <tbody>\n",
       "    <tr>\n",
       "      <th>0</th>\n",
       "      <td>964</td>\n",
       "      <td>1255</td>\n",
       "      <td>create_order</td>\n",
       "      <td>2022-08-26 00:00:19.000000</td>\n",
       "      <td>2022-08-26</td>\n",
       "      <td>0</td>\n",
       "      <td>2022-08-26 00:00:19.000000</td>\n",
       "      <td>75</td>\n",
       "      <td>сок ананасовый</td>\n",
       "      <td>120.0</td>\n",
       "    </tr>\n",
       "    <tr>\n",
       "      <th>1</th>\n",
       "      <td>987</td>\n",
       "      <td>1287</td>\n",
       "      <td>create_order</td>\n",
       "      <td>2022-08-26 00:31:36.000000</td>\n",
       "      <td>2022-08-26</td>\n",
       "      <td>0</td>\n",
       "      <td>2022-08-26 00:31:36.000000</td>\n",
       "      <td>75</td>\n",
       "      <td>сок ананасовый</td>\n",
       "      <td>120.0</td>\n",
       "    </tr>\n",
       "    <tr>\n",
       "      <th>2</th>\n",
       "      <td>1073</td>\n",
       "      <td>1403</td>\n",
       "      <td>create_order</td>\n",
       "      <td>2022-08-26 03:01:40.000000</td>\n",
       "      <td>2022-08-26</td>\n",
       "      <td>1</td>\n",
       "      <td>2022-08-26 03:01:40.000000</td>\n",
       "      <td>75</td>\n",
       "      <td>сок ананасовый</td>\n",
       "      <td>120.0</td>\n",
       "    </tr>\n",
       "    <tr>\n",
       "      <th>3</th>\n",
       "      <td>1089</td>\n",
       "      <td>1424</td>\n",
       "      <td>create_order</td>\n",
       "      <td>2022-08-26 04:01:22.000000</td>\n",
       "      <td>2022-08-26</td>\n",
       "      <td>1</td>\n",
       "      <td>2022-08-26 04:01:22.000000</td>\n",
       "      <td>75</td>\n",
       "      <td>сок ананасовый</td>\n",
       "      <td>120.0</td>\n",
       "    </tr>\n",
       "    <tr>\n",
       "      <th>4</th>\n",
       "      <td>1139</td>\n",
       "      <td>1495</td>\n",
       "      <td>create_order</td>\n",
       "      <td>2022-08-26 06:04:05.000000</td>\n",
       "      <td>2022-08-26</td>\n",
       "      <td>1</td>\n",
       "      <td>2022-08-26 06:04:05.000000</td>\n",
       "      <td>75</td>\n",
       "      <td>сок ананасовый</td>\n",
       "      <td>120.0</td>\n",
       "    </tr>\n",
       "    <tr>\n",
       "      <th>...</th>\n",
       "      <td>...</td>\n",
       "      <td>...</td>\n",
       "      <td>...</td>\n",
       "      <td>...</td>\n",
       "      <td>...</td>\n",
       "      <td>...</td>\n",
       "      <td>...</td>\n",
       "      <td>...</td>\n",
       "      <td>...</td>\n",
       "      <td>...</td>\n",
       "    </tr>\n",
       "    <tr>\n",
       "      <th>14564</th>\n",
       "      <td>1883</td>\n",
       "      <td>33910</td>\n",
       "      <td>create_order</td>\n",
       "      <td>2022-09-03 23:46:53.000000</td>\n",
       "      <td>2022-09-03</td>\n",
       "      <td>1</td>\n",
       "      <td>2022-09-03 23:46:53.000000</td>\n",
       "      <td>11</td>\n",
       "      <td>масло льняное</td>\n",
       "      <td>200.0</td>\n",
       "    </tr>\n",
       "    <tr>\n",
       "      <th>14565</th>\n",
       "      <td>1440</td>\n",
       "      <td>34742</td>\n",
       "      <td>create_order</td>\n",
       "      <td>2022-09-04 03:41:52.000000</td>\n",
       "      <td>2022-09-04</td>\n",
       "      <td>0</td>\n",
       "      <td>2022-09-04 03:41:52.000000</td>\n",
       "      <td>11</td>\n",
       "      <td>масло льняное</td>\n",
       "      <td>200.0</td>\n",
       "    </tr>\n",
       "    <tr>\n",
       "      <th>14566</th>\n",
       "      <td>1813</td>\n",
       "      <td>41998</td>\n",
       "      <td>create_order</td>\n",
       "      <td>2022-09-05 10:26:46.000000</td>\n",
       "      <td>2022-09-05</td>\n",
       "      <td>1</td>\n",
       "      <td>2022-09-05 10:26:46.000000</td>\n",
       "      <td>11</td>\n",
       "      <td>масло льняное</td>\n",
       "      <td>200.0</td>\n",
       "    </tr>\n",
       "    <tr>\n",
       "      <th>14567</th>\n",
       "      <td>1175</td>\n",
       "      <td>53851</td>\n",
       "      <td>create_order</td>\n",
       "      <td>2022-09-07 23:53:54.000000</td>\n",
       "      <td>2022-09-07</td>\n",
       "      <td>0</td>\n",
       "      <td>2022-09-07 23:53:54.000000</td>\n",
       "      <td>11</td>\n",
       "      <td>масло льняное</td>\n",
       "      <td>200.0</td>\n",
       "    </tr>\n",
       "    <tr>\n",
       "      <th>14568</th>\n",
       "      <td>1829</td>\n",
       "      <td>57283</td>\n",
       "      <td>create_order</td>\n",
       "      <td>2022-09-08 16:06:17.000000</td>\n",
       "      <td>2022-09-08</td>\n",
       "      <td>1</td>\n",
       "      <td>2022-09-08 16:06:17.000000</td>\n",
       "      <td>11</td>\n",
       "      <td>масло льняное</td>\n",
       "      <td>200.0</td>\n",
       "    </tr>\n",
       "  </tbody>\n",
       "</table>\n",
       "<p>14569 rows × 10 columns</p>\n",
       "</div>"
      ],
      "text/plain": [
       "       user_id  order_id        action                        time  \\\n",
       "0          964      1255  create_order  2022-08-26 00:00:19.000000   \n",
       "1          987      1287  create_order  2022-08-26 00:31:36.000000   \n",
       "2         1073      1403  create_order  2022-08-26 03:01:40.000000   \n",
       "3         1089      1424  create_order  2022-08-26 04:01:22.000000   \n",
       "4         1139      1495  create_order  2022-08-26 06:04:05.000000   \n",
       "...        ...       ...           ...                         ...   \n",
       "14564     1883     33910  create_order  2022-09-03 23:46:53.000000   \n",
       "14565     1440     34742  create_order  2022-09-04 03:41:52.000000   \n",
       "14566     1813     41998  create_order  2022-09-05 10:26:46.000000   \n",
       "14567     1175     53851  create_order  2022-09-07 23:53:54.000000   \n",
       "14568     1829     57283  create_order  2022-09-08 16:06:17.000000   \n",
       "\n",
       "             date  group               creation_time  product_id  \\\n",
       "0      2022-08-26      0  2022-08-26 00:00:19.000000          75   \n",
       "1      2022-08-26      0  2022-08-26 00:31:36.000000          75   \n",
       "2      2022-08-26      1  2022-08-26 03:01:40.000000          75   \n",
       "3      2022-08-26      1  2022-08-26 04:01:22.000000          75   \n",
       "4      2022-08-26      1  2022-08-26 06:04:05.000000          75   \n",
       "...           ...    ...                         ...         ...   \n",
       "14564  2022-09-03      1  2022-09-03 23:46:53.000000          11   \n",
       "14565  2022-09-04      0  2022-09-04 03:41:52.000000          11   \n",
       "14566  2022-09-05      1  2022-09-05 10:26:46.000000          11   \n",
       "14567  2022-09-07      0  2022-09-07 23:53:54.000000          11   \n",
       "14568  2022-09-08      1  2022-09-08 16:06:17.000000          11   \n",
       "\n",
       "                 name  price  \n",
       "0      сок ананасовый  120.0  \n",
       "1      сок ананасовый  120.0  \n",
       "2      сок ананасовый  120.0  \n",
       "3      сок ананасовый  120.0  \n",
       "4      сок ананасовый  120.0  \n",
       "...               ...    ...  \n",
       "14564   масло льняное  200.0  \n",
       "14565   масло льняное  200.0  \n",
       "14566   масло льняное  200.0  \n",
       "14567   масло льняное  200.0  \n",
       "14568   масло льняное  200.0  \n",
       "\n",
       "[14569 rows x 10 columns]"
      ]
     },
     "execution_count": 20,
     "metadata": {},
     "output_type": "execute_result"
    }
   ],
   "source": [
    "all_df=users_orders.merge(ab_products, on='product_id')\n",
    "all_df"
   ]
  },
  {
   "cell_type": "code",
   "execution_count": 21,
   "metadata": {},
   "outputs": [
    {
     "data": {
      "text/html": [
       "<div>\n",
       "<style scoped>\n",
       "    .dataframe tbody tr th:only-of-type {\n",
       "        vertical-align: middle;\n",
       "    }\n",
       "\n",
       "    .dataframe tbody tr th {\n",
       "        vertical-align: top;\n",
       "    }\n",
       "\n",
       "    .dataframe thead th {\n",
       "        text-align: right;\n",
       "    }\n",
       "</style>\n",
       "<table border=\"1\" class=\"dataframe\">\n",
       "  <thead>\n",
       "    <tr style=\"text-align: right;\">\n",
       "      <th></th>\n",
       "      <th>user_id</th>\n",
       "      <th>order_id</th>\n",
       "      <th>group</th>\n",
       "      <th>product_count</th>\n",
       "      <th>sum_price</th>\n",
       "    </tr>\n",
       "  </thead>\n",
       "  <tbody>\n",
       "    <tr>\n",
       "      <th>0</th>\n",
       "      <td>964</td>\n",
       "      <td>1255</td>\n",
       "      <td>0</td>\n",
       "      <td>4</td>\n",
       "      <td>408.7</td>\n",
       "    </tr>\n",
       "    <tr>\n",
       "      <th>1</th>\n",
       "      <td>964</td>\n",
       "      <td>1257</td>\n",
       "      <td>0</td>\n",
       "      <td>4</td>\n",
       "      <td>310.2</td>\n",
       "    </tr>\n",
       "    <tr>\n",
       "      <th>2</th>\n",
       "      <td>965</td>\n",
       "      <td>1256</td>\n",
       "      <td>1</td>\n",
       "      <td>3</td>\n",
       "      <td>250.5</td>\n",
       "    </tr>\n",
       "    <tr>\n",
       "      <th>3</th>\n",
       "      <td>965</td>\n",
       "      <td>3946</td>\n",
       "      <td>1</td>\n",
       "      <td>4</td>\n",
       "      <td>860.6</td>\n",
       "    </tr>\n",
       "    <tr>\n",
       "      <th>4</th>\n",
       "      <td>965</td>\n",
       "      <td>9097</td>\n",
       "      <td>1</td>\n",
       "      <td>6</td>\n",
       "      <td>608.2</td>\n",
       "    </tr>\n",
       "    <tr>\n",
       "      <th>...</th>\n",
       "      <td>...</td>\n",
       "      <td>...</td>\n",
       "      <td>...</td>\n",
       "      <td>...</td>\n",
       "      <td>...</td>\n",
       "    </tr>\n",
       "    <tr>\n",
       "      <th>4118</th>\n",
       "      <td>1980</td>\n",
       "      <td>57384</td>\n",
       "      <td>1</td>\n",
       "      <td>3</td>\n",
       "      <td>259.9</td>\n",
       "    </tr>\n",
       "    <tr>\n",
       "      <th>4119</th>\n",
       "      <td>1980</td>\n",
       "      <td>57498</td>\n",
       "      <td>1</td>\n",
       "      <td>4</td>\n",
       "      <td>239.0</td>\n",
       "    </tr>\n",
       "    <tr>\n",
       "      <th>4120</th>\n",
       "      <td>1980</td>\n",
       "      <td>58430</td>\n",
       "      <td>1</td>\n",
       "      <td>6</td>\n",
       "      <td>892.7</td>\n",
       "    </tr>\n",
       "    <tr>\n",
       "      <th>4121</th>\n",
       "      <td>1980</td>\n",
       "      <td>58460</td>\n",
       "      <td>1</td>\n",
       "      <td>3</td>\n",
       "      <td>203.2</td>\n",
       "    </tr>\n",
       "    <tr>\n",
       "      <th>4122</th>\n",
       "      <td>1980</td>\n",
       "      <td>58461</td>\n",
       "      <td>1</td>\n",
       "      <td>2</td>\n",
       "      <td>356.4</td>\n",
       "    </tr>\n",
       "  </tbody>\n",
       "</table>\n",
       "<p>4123 rows × 5 columns</p>\n",
       "</div>"
      ],
      "text/plain": [
       "      user_id  order_id  group  product_count  sum_price\n",
       "0         964      1255      0              4      408.7\n",
       "1         964      1257      0              4      310.2\n",
       "2         965      1256      1              3      250.5\n",
       "3         965      3946      1              4      860.6\n",
       "4         965      9097      1              6      608.2\n",
       "...       ...       ...    ...            ...        ...\n",
       "4118     1980     57384      1              3      259.9\n",
       "4119     1980     57498      1              4      239.0\n",
       "4120     1980     58430      1              6      892.7\n",
       "4121     1980     58460      1              3      203.2\n",
       "4122     1980     58461      1              2      356.4\n",
       "\n",
       "[4123 rows x 5 columns]"
      ]
     },
     "execution_count": 21,
     "metadata": {},
     "output_type": "execute_result"
    }
   ],
   "source": [
    "#Агрегируем нужные данные:\n",
    "all_df=all_df.query('action != \"cancel_order\"')\\\n",
    ".groupby(['user_id','order_id', 'group'], as_index=False).agg({'product_id':'count', 'price':'sum'})\\\n",
    ".rename(columns={'product_id':'product_count', 'price':'sum_price'})\n",
    "all_df"
   ]
  },
  {
   "cell_type": "code",
   "execution_count": 22,
   "metadata": {},
   "outputs": [
    {
     "data": {
      "text/html": [
       "<div>\n",
       "<style scoped>\n",
       "    .dataframe tbody tr th:only-of-type {\n",
       "        vertical-align: middle;\n",
       "    }\n",
       "\n",
       "    .dataframe tbody tr th {\n",
       "        vertical-align: top;\n",
       "    }\n",
       "\n",
       "    .dataframe thead th {\n",
       "        text-align: right;\n",
       "    }\n",
       "</style>\n",
       "<table border=\"1\" class=\"dataframe\">\n",
       "  <thead>\n",
       "    <tr style=\"text-align: right;\">\n",
       "      <th></th>\n",
       "      <th>user_id</th>\n",
       "      <th>group</th>\n",
       "      <th>product_count</th>\n",
       "      <th>sum_price</th>\n",
       "    </tr>\n",
       "  </thead>\n",
       "  <tbody>\n",
       "    <tr>\n",
       "      <th>0</th>\n",
       "      <td>964</td>\n",
       "      <td>0</td>\n",
       "      <td>8</td>\n",
       "      <td>718.9</td>\n",
       "    </tr>\n",
       "    <tr>\n",
       "      <th>1</th>\n",
       "      <td>965</td>\n",
       "      <td>1</td>\n",
       "      <td>33</td>\n",
       "      <td>4155.5</td>\n",
       "    </tr>\n",
       "    <tr>\n",
       "      <th>2</th>\n",
       "      <td>966</td>\n",
       "      <td>0</td>\n",
       "      <td>2</td>\n",
       "      <td>85.0</td>\n",
       "    </tr>\n",
       "    <tr>\n",
       "      <th>3</th>\n",
       "      <td>967</td>\n",
       "      <td>1</td>\n",
       "      <td>18</td>\n",
       "      <td>1137.4</td>\n",
       "    </tr>\n",
       "    <tr>\n",
       "      <th>4</th>\n",
       "      <td>968</td>\n",
       "      <td>0</td>\n",
       "      <td>11</td>\n",
       "      <td>1590.7</td>\n",
       "    </tr>\n",
       "    <tr>\n",
       "      <th>...</th>\n",
       "      <td>...</td>\n",
       "      <td>...</td>\n",
       "      <td>...</td>\n",
       "      <td>...</td>\n",
       "    </tr>\n",
       "    <tr>\n",
       "      <th>1012</th>\n",
       "      <td>1976</td>\n",
       "      <td>1</td>\n",
       "      <td>16</td>\n",
       "      <td>2001.9</td>\n",
       "    </tr>\n",
       "    <tr>\n",
       "      <th>1013</th>\n",
       "      <td>1977</td>\n",
       "      <td>1</td>\n",
       "      <td>9</td>\n",
       "      <td>781.2</td>\n",
       "    </tr>\n",
       "    <tr>\n",
       "      <th>1014</th>\n",
       "      <td>1978</td>\n",
       "      <td>1</td>\n",
       "      <td>21</td>\n",
       "      <td>2766.6</td>\n",
       "    </tr>\n",
       "    <tr>\n",
       "      <th>1015</th>\n",
       "      <td>1979</td>\n",
       "      <td>1</td>\n",
       "      <td>26</td>\n",
       "      <td>2348.9</td>\n",
       "    </tr>\n",
       "    <tr>\n",
       "      <th>1016</th>\n",
       "      <td>1980</td>\n",
       "      <td>1</td>\n",
       "      <td>24</td>\n",
       "      <td>2475.9</td>\n",
       "    </tr>\n",
       "  </tbody>\n",
       "</table>\n",
       "<p>1017 rows × 4 columns</p>\n",
       "</div>"
      ],
      "text/plain": [
       "      user_id  group  product_count  sum_price\n",
       "0         964      0              8      718.9\n",
       "1         965      1             33     4155.5\n",
       "2         966      0              2       85.0\n",
       "3         967      1             18     1137.4\n",
       "4         968      0             11     1590.7\n",
       "...       ...    ...            ...        ...\n",
       "1012     1976      1             16     2001.9\n",
       "1013     1977      1              9      781.2\n",
       "1014     1978      1             21     2766.6\n",
       "1015     1979      1             26     2348.9\n",
       "1016     1980      1             24     2475.9\n",
       "\n",
       "[1017 rows x 4 columns]"
      ]
     },
     "execution_count": 22,
     "metadata": {},
     "output_type": "execute_result"
    }
   ],
   "source": [
    "#Считаем колличество всех заказанных товаров и их стоимость\n",
    "df_count= all_df.groupby(['user_id','group'], as_index=False).agg({'product_count':'sum', 'sum_price':'sum'})\n",
    "df_count"
   ]
  },
  {
   "cell_type": "code",
   "execution_count": 23,
   "metadata": {},
   "outputs": [
    {
     "data": {
      "text/plain": [
       "<matplotlib.axes._subplots.AxesSubplot at 0x7fa85da98940>"
      ]
     },
     "execution_count": 23,
     "metadata": {},
     "output_type": "execute_result"
    },
    {
     "data": {
      "image/png": "[encoded data removed]",
      "text/plain": [
       "<Figure size 1008x576 with 1 Axes>"
      ]
     },
     "metadata": {},
     "output_type": "display_data"
    }
   ],
   "source": [
    "#Смотрим на распределение заказов и стоимости по группам на графиках:\n",
    "sns.set(style='whitegrid', rc={'figure.figsize' : (14,8)})\n",
    "sns.boxplot(y='product_count', x='group', data = df_count)"
   ]
  },
  {
   "cell_type": "code",
   "execution_count": 24,
   "metadata": {},
   "outputs": [
    {
     "data": {
      "text/plain": [
       "<matplotlib.axes._subplots.AxesSubplot at 0x7fa85da7ee80>"
      ]
     },
     "execution_count": 24,
     "metadata": {},
     "output_type": "execute_result"
    },
    {
     "data": {
      "image/png": "[encoded data removed]",
      "text/plain": [
       "<Figure size 1008x576 with 1 Axes>"
      ]
     },
     "metadata": {},
     "output_type": "display_data"
    }
   ],
   "source": [
    "sns.set(style='whitegrid', rc={'figure.figsize' : (14,8)})\n",
    "sns.boxplot(y='sum_price', x='group', data = df_count)"
   ]
  },
  {
   "cell_type": "markdown",
   "metadata": {},
   "source": [
    "На графикax видно, что группа 1 расположена выше и имеет больший размах, медиана больше, чем у группы 0.\n",
    "Посмотрим на описательную статистику групп:"
   ]
  },
  {
   "cell_type": "code",
   "execution_count": 25,
   "metadata": {},
   "outputs": [
    {
     "data": {
      "text/plain": [
       "count    515.000000\n",
       "mean      10.466019\n",
       "std        6.585587\n",
       "min        1.000000\n",
       "25%        6.000000\n",
       "50%        9.000000\n",
       "75%       13.000000\n",
       "max       43.000000\n",
       "Name: product_count, dtype: float64"
      ]
     },
     "execution_count": 25,
     "metadata": {},
     "output_type": "execute_result"
    }
   ],
   "source": [
    "df_count.query('group==0').product_count.describe()"
   ]
  },
  {
   "cell_type": "code",
   "execution_count": 26,
   "metadata": {},
   "outputs": [
    {
     "data": {
      "text/plain": [
       "count     515.000000\n",
       "mean     1191.240388\n",
       "std       829.633729\n",
       "min        25.000000\n",
       "25%       605.250000\n",
       "50%       999.400000\n",
       "75%      1553.200000\n",
       "max      5589.800000\n",
       "Name: sum_price, dtype: float64"
      ]
     },
     "execution_count": 26,
     "metadata": {},
     "output_type": "execute_result"
    }
   ],
   "source": [
    "df_count.query('group==0').sum_price.describe()"
   ]
  },
  {
   "cell_type": "code",
   "execution_count": 27,
   "metadata": {},
   "outputs": [
    {
     "data": {
      "text/plain": [
       "count    502.000000\n",
       "mean      16.804781\n",
       "std        7.891336\n",
       "min        1.000000\n",
       "25%       12.000000\n",
       "50%       16.000000\n",
       "75%       21.750000\n",
       "max       49.000000\n",
       "Name: product_count, dtype: float64"
      ]
     },
     "execution_count": 27,
     "metadata": {},
     "output_type": "execute_result"
    }
   ],
   "source": [
    "df_count.query('group==1').product_count.describe()"
   ]
  },
  {
   "cell_type": "code",
   "execution_count": 28,
   "metadata": {},
   "outputs": [
    {
     "data": {
      "text/plain": [
       "count     502.000000\n",
       "mean     1851.059761\n",
       "std       953.669817\n",
       "min        83.500000\n",
       "25%      1191.725000\n",
       "50%      1710.300000\n",
       "75%      2435.975000\n",
       "max      4742.200000\n",
       "Name: sum_price, dtype: float64"
      ]
     },
     "execution_count": 28,
     "metadata": {},
     "output_type": "execute_result"
    }
   ],
   "source": [
    "df_count.query('group==1').sum_price.describe()"
   ]
  },
  {
   "cell_type": "markdown",
   "metadata": {},
   "source": [
    "Мы видим, что по метрикам купленных товаров и стоимости заказа, все основные харрактеристики группы с новой системой \n",
    "рекомендаций выше, чем у группы 0 (mean, median(50%), std). Проведем тест на нормальность распределения:"
   ]
  },
  {
   "cell_type": "code",
   "execution_count": 29,
   "metadata": {},
   "outputs": [
    {
     "data": {
      "text/plain": [
       "ShapiroResult(statistic=0.9062955379486084, pvalue=2.880797765664543e-17)"
      ]
     },
     "execution_count": 29,
     "metadata": {},
     "output_type": "execute_result"
    }
   ],
   "source": [
    "shapiro(df_count.query('group==0').product_count)"
   ]
  },
  {
   "cell_type": "code",
   "execution_count": 30,
   "metadata": {},
   "outputs": [
    {
     "data": {
      "text/plain": [
       "ShapiroResult(statistic=0.8932254314422607, pvalue=1.9053859323926758e-18)"
      ]
     },
     "execution_count": 30,
     "metadata": {},
     "output_type": "execute_result"
    }
   ],
   "source": [
    "shapiro(df_count.query('group==0').sum_price)"
   ]
  },
  {
   "cell_type": "code",
   "execution_count": 31,
   "metadata": {},
   "outputs": [
    {
     "data": {
      "text/plain": [
       "ShapiroResult(statistic=0.9763003587722778, pvalue=2.86832403162407e-07)"
      ]
     },
     "execution_count": 31,
     "metadata": {},
     "output_type": "execute_result"
    }
   ],
   "source": [
    "shapiro(df_count.query('group==1').product_count)"
   ]
  },
  {
   "cell_type": "code",
   "execution_count": 32,
   "metadata": {},
   "outputs": [
    {
     "data": {
      "text/plain": [
       "ShapiroResult(statistic=0.9757506847381592, pvalue=2.1518859227853682e-07)"
      ]
     },
     "execution_count": 32,
     "metadata": {},
     "output_type": "execute_result"
    }
   ],
   "source": [
    "shapiro(df_count.query('group==1').sum_price)"
   ]
  },
  {
   "cell_type": "markdown",
   "metadata": {},
   "source": [
    "Так как распределение в обеих группах ненормально, используем для анализа стат. значимости метод bootstrap. "
   ]
  },
  {
   "cell_type": "code",
   "execution_count": 33,
   "metadata": {},
   "outputs": [],
   "source": [
    "x=df_count[df_count.group==0]"
   ]
  },
  {
   "cell_type": "code",
   "execution_count": 34,
   "metadata": {},
   "outputs": [
    {
     "data": {
      "text/plain": [
       "BootstrapResult(confidence_interval=ConfidenceInterval(low=9.914563106796116, high=11.075728155339807), standard_error=0.2947423322773532)"
      ]
     },
     "execution_count": 34,
     "metadata": {},
     "output_type": "execute_result"
    }
   ],
   "source": [
    "stats.bootstrap((x.product_count, ), np.mean)"
   ]
  },
  {
   "cell_type": "code",
   "execution_count": 35,
   "metadata": {},
   "outputs": [
    {
     "data": {
      "text/plain": [
       "BootstrapResult(confidence_interval=ConfidenceInterval(low=1122.2597097906676, high=1265.697282164548), standard_error=36.42605593633045)"
      ]
     },
     "execution_count": 35,
     "metadata": {},
     "output_type": "execute_result"
    }
   ],
   "source": [
    "stats.bootstrap((x.sum_price, ), np.mean)"
   ]
  },
  {
   "cell_type": "code",
   "execution_count": 36,
   "metadata": {},
   "outputs": [],
   "source": [
    "y=df_count[df_count.group==1]"
   ]
  },
  {
   "cell_type": "code",
   "execution_count": 37,
   "metadata": {},
   "outputs": [
    {
     "data": {
      "text/plain": [
       "BootstrapResult(confidence_interval=ConfidenceInterval(low=16.111553784860558, high=17.49601593625498), standard_error=0.35216925053106407)"
      ]
     },
     "execution_count": 37,
     "metadata": {},
     "output_type": "execute_result"
    }
   ],
   "source": [
    "stats.bootstrap((y.product_count, ), np.mean)"
   ]
  },
  {
   "cell_type": "code",
   "execution_count": 38,
   "metadata": {},
   "outputs": [
    {
     "data": {
      "text/plain": [
       "BootstrapResult(confidence_interval=ConfidenceInterval(low=1770.2514880899855, high=1934.3141066099824), standard_error=41.966637543881575)"
      ]
     },
     "execution_count": 38,
     "metadata": {},
     "output_type": "execute_result"
    }
   ],
   "source": [
    "stats.bootstrap((y.sum_price, ), np.mean)"
   ]
  },
  {
   "cell_type": "markdown",
   "metadata": {},
   "source": [
    "Доверительные интервалы в обеих метриках не пересекаются - значит, мы получили статистически значимые различия между группами \n",
    "по этим метрикам. "
   ]
  },
  {
   "cell_type": "markdown",
   "metadata": {},
   "source": [
    "Вывод: исходя из того, что в группе с новой системой рекомендаций количество заказов значительно возросло, среднее количество \n",
    "заказываемых товаров увеличилось на 6 единиц, а суммарная стоимость заказов увеличилась более чем на 600 единиц, рекомендуем \n",
    "включить новую систему рекомендаций на всех пользователей."
   ]
  }
 ],
 "metadata": {
  "kernelspec": {
   "display_name": "Python 3",
   "language": "python",
   "name": "python3"
  },
  "language_info": {
   "codemirror_mode": {
    "name": "ipython",
    "version": 3
   },
   "file_extension": ".py",
   "mimetype": "text/x-python",
   "name": "python",
   "nbconvert_exporter": "python",
   "pygments_lexer": "ipython3",
   "version": "3.7.3"
  }
 },
 "nbformat": 4,
 "nbformat_minor": 4
}
